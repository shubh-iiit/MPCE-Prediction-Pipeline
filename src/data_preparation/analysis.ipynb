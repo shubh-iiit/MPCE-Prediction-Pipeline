{
 "cells": [
  {
   "cell_type": "code",
   "execution_count": 1,
   "id": "191c3743-e544-4155-a45a-873fa7a3255e",
   "metadata": {},
   "outputs": [],
   "source": [
    "# Import necessary libraries\n",
    "import os\n",
    "import pandas as pd\n",
    "from concurrent.futures import ProcessPoolExecutor\n",
    "import numpy as np\n",
    "\n",
    "# Set working directory\n",
    "#os.chdir(\"C:/Users/Hp/Desktop/HCES2223/Data\")"
   ]
  },
  {
   "cell_type": "code",
   "execution_count": 39,
   "id": "a6c47920-eb56-483f-8b2e-f23bf2efc813",
   "metadata": {},
   "outputs": [
    {
     "name": "stdout",
     "output_type": "stream",
     "text": [
      "   Level  Slno            Item  Length\n",
      "0      1     1     Survey Name       4\n",
      "1      1     2            Year       4\n",
      "2      1     3  FSU Serial No.       5\n",
      "3      1     4          Sector       1\n",
      "4      1     5           State       2\n"
     ]
    }
   ],
   "source": [
    "# Read the layout file which contains the structure of the fixed-width files\n",
    "layout = pd.read_csv(\"C:/Users/Hp/Desktop/HCES2223/Resource/Layout.csv\")\n",
    "\n",
    "# Display the layout for reference\n",
    "print(layout.head())\n",
    "\n",
    "# Get the unique levels from the layout\n",
    "levels = layout['Level'].unique().tolist()"
   ]
  },
  {
   "cell_type": "code",
   "execution_count": 25,
   "id": "4042989b-128e-4ab6-a6ad-9cf7b1cdf643",
   "metadata": {},
   "outputs": [],
   "source": [
    "# Get a list of data files\n",
    "data_files = os.listdir()\n",
    "data_files= data_files[0:3]+ data_files[10:11]+ data_files[13:15]\n",
    "levels=levels[0:3]+ levels[10:11]+levels[13:15]"
   ]
  },
  {
   "cell_type": "code",
   "execution_count": 41,
   "id": "fb3fb4da-c372-4602-ac76-e3cd2e70d4a7",
   "metadata": {},
   "outputs": [],
   "source": [
    "# Get a list of data files\n",
    "data_files = os.listdir()\n",
    "data_files= [data_files[10]]\n",
    "levels=[levels[10]]"
   ]
  },
  {
   "cell_type": "code",
   "execution_count": 43,
   "id": "5a40473d-c423-4d9d-bfcd-a309036ebbbf",
   "metadata": {},
   "outputs": [
    {
     "data": {
      "text/plain": [
       "['hces22_lvl_11.TXT']"
      ]
     },
     "execution_count": 43,
     "metadata": {},
     "output_type": "execute_result"
    }
   ],
   "source": [
    "data_files"
   ]
  },
  {
   "cell_type": "code",
   "execution_count": 45,
   "id": "7797365c-cf8e-4efb-9fbe-436cab621cbf",
   "metadata": {
    "scrolled": true
   },
   "outputs": [],
   "source": [
    "# Function to process each file\n",
    "for i in range(len(levels)):\n",
    "    current_layout = layout[layout['Level'] == levels[i]]\n",
    "    # Read the fixed-width file\n",
    "    columns=dict(zip(current_layout.Item, current_layout.Length))\n",
    "    \n",
    "    file_name = data_files[i]\n",
    "    # Read the fixed-width file\n",
    "    # Read the text file\n",
    "    file_path = 'C://Users//Hp//Desktop//HCES2223//Data//' +  file_name  \n",
    "    with open(file_path, 'r') as file:\n",
    "        data = file.readlines()\n",
    "\n",
    "    # Parse the data into a structured format\n",
    "    parsed_data = []\n",
    "    for line in data:\n",
    "        parsed_line = []\n",
    "        start = 0\n",
    "        for length in columns.values():\n",
    "            parsed_line.append(line[start:start + length].strip())\n",
    "            start += length\n",
    "        parsed_data.append(parsed_line)\n",
    "\n",
    "    # Create a DataFrame\n",
    "    df = pd.DataFrame(parsed_data, columns=[col for col in columns.keys()])\n",
    "    df['HH_ID'] = df.iloc[:, :16].apply(lambda row: ''.join(row.values.astype(str)), axis=1)\n",
    "\n",
    "    \n",
    "    \n",
    "    # Save the processed data to CSV\n",
    "    output_file = f\"C:/Users/Hp/Desktop/HCES2223/CSV/\" + file_name +'.parquet'\n",
    "    df.to_parquet(output_file, index=False)\n",
    "    "
   ]
  },
  {
   "cell_type": "markdown",
   "id": "ccbf5092-375b-473d-9aa4-e52dd894f46a",
   "metadata": {},
   "source": [
    "######Analysis###"
   ]
  },
  {
   "cell_type": "code",
   "execution_count": 3,
   "id": "c64cb6a8-5cce-4128-9492-ebd230247242",
   "metadata": {},
   "outputs": [],
   "source": [
    "Level1=pd.read_parquet(r'C:\\Users\\DIID\\Desktop\\HCES2223\\CSV\\hces22_lvl_01.TXT.parquet')\n",
    "Level2=pd.read_parquet(r'C:\\Users\\DIID\\Desktop\\HCES2223\\CSV\\hces22_lvl_02.TXT.parquet')\n",
    "Level3=pd.read_parquet(r'C:\\Users\\DIID\\Desktop\\HCES2223\\CSV\\hces22_lvl_03.TXT.parquet')\n",
    "Level11=pd.read_parquet(r'C:\\Users\\DIID\\Desktop\\HCES2223\\CSV\\hces22_lvl_11.TXT.parquet')\n",
    "Level14=pd.read_parquet(r'C:\\Users\\DIID\\Desktop\\HCES2223\\CSV\\hces22_lvl_14.TXT.parquet')\n",
    "Level15=pd.read_parquet(r'C:\\Users\\DIID\\Desktop\\HCES2223\\CSV\\hces22_lvl_15.TXT.parquet')\n"
   ]
  },
  {
   "cell_type": "code",
   "execution_count": 5,
   "id": "9a828785-023d-41cc-b644-955b132fa3c0",
   "metadata": {},
   "outputs": [],
   "source": [
    "Level2=Level2[Level2.columns[16:]]\n",
    "Level3=Level3[Level3.columns[16:]]\n",
    "Level11=Level11[Level11.columns[16:]]\n",
    "Level14=Level14[Level14.columns[16:]]\n",
    "Level15=Level15[Level15.columns[16:]]"
   ]
  },
  {
   "cell_type": "code",
   "execution_count": 7,
   "id": "a4866fe3-d01b-4d25-9cee-4b928fda5a96",
   "metadata": {},
   "outputs": [],
   "source": [
    "Level11=Level11[Level11.columns[29:]]\n",
    "Level11=Level11[['HH_ID','Whether household possessed one or more item as on the date of the survey- Television',\n",
    "       'Whether household possessed one or more item as on the date of the survey- Radio',\n",
    "       'Whether household possessed one or more item as on the date of the survey - Laptop/PC',\n",
    "       'Whether household possessed one or more item as on the date of the survey- Mobile handset',\n",
    "       'Whether household possessed one or more item as on the date of the survey- Bicycle',\n",
    "       'Whether household possessed one or more item as on the date of the survey- Motorcycle, scooter',\n",
    "       'Whether household possessed one or more item as on the date of the survey- Motor car/jeep/van',\n",
    "       'Whether household possessed one or more item as on the date of the survey- Trucks',\n",
    "       'Whether household possessed one or more item as on the date of the survey - Animal cart',\n",
    "       'Whether household possessed one or more item as on the date of the survey- Refrigerator',\n",
    "       'Whether household possessed one or more item as on the date of the survey- Washing machine',\n",
    "       'Whether household possessed one or more item as on the date of the survey- Air conditioner/air cooler']]"
   ]
  },
  {
   "cell_type": "code",
   "execution_count": 9,
   "id": "a3265bbf-25b4-49ab-8f6c-ec17cf45f6d8",
   "metadata": {},
   "outputs": [],
   "source": [
    "Level1=Level1[['HH_ID','Sector','State','NSS-Region','District','Multiplier']]\n",
    "Level3=Level3[['HH_ID','Household Type', 'Religion of the head of the household','Social Group of the head of the household', \n",
    "               'HH Size (For FDQ)','NCO-2015 Code(3-digit)', 'NIC-2008 Code(5-digit)']]\n",
    "Level1_3=Level1.merge(Level3, on ='HH_ID', how= 'left')\n",
    "Level1_311=Level1_3.merge(Level11, on ='HH_ID', how= 'left')"
   ]
  },
  {
   "cell_type": "code",
   "execution_count": 11,
   "id": "6739153c-37a3-4a85-a4c4-51c48283f2a7",
   "metadata": {},
   "outputs": [],
   "source": [
    "# Extract data in a single step for each household size category\n",
    "HH_Visit= Level15[Level15['Questionnaire No.'].isin(['F', 'C', 'D'])]\n",
    "# Pivot the household sizes into separate columns for each questionnaire category\n",
    "HH_Visit = HH_Visit.pivot(index='HH_ID', columns='Questionnaire No.', values='Household size').reset_index()"
   ]
  },
  {
   "cell_type": "code",
   "execution_count": 13,
   "id": "53536a0b-3668-42ff-8847-e1a85daacd0b",
   "metadata": {},
   "outputs": [],
   "source": [
    "HH_Data= Level1_311.merge(HH_Visit, on ='HH_ID', how= 'left')"
   ]
  },
  {
   "cell_type": "code",
   "execution_count": 15,
   "id": "9faa5acf-cb30-4c92-b366-e37356170202",
   "metadata": {},
   "outputs": [],
   "source": [
    "def expense_summariser(df, item_list, multiplier, column_name_to_be_taken):\n",
    "    test= df[df['Item_Code'].isin(item_list)]\n",
    "    test= test.groupby('HH_ID')['Value_in_Rs'].sum() * multiplier\n",
    "    test=test.reset_index(name= column_name_to_be_taken)\n",
    "    df_HHID= Level14[['HH_ID']].drop_duplicates()\n",
    "    test= df_HHID.merge(test, on ='HH_ID', how= 'left')\n",
    "    return test"
   ]
  },
  {
   "cell_type": "code",
   "execution_count": 17,
   "id": "8e69ccad-9142-41ad-9155-dee8a7021f9b",
   "metadata": {},
   "outputs": [
    {
     "name": "stderr",
     "output_type": "stream",
     "text": [
      "C:\\Users\\DIID\\AppData\\Local\\Temp\\ipykernel_3700\\3137296924.py:5: SettingWithCopyWarning: \n",
      "A value is trying to be set on a copy of a slice from a DataFrame.\n",
      "Try using .loc[row_indexer,col_indexer] = value instead\n",
      "\n",
      "See the caveats in the documentation: https://pandas.pydata.org/pandas-docs/stable/user_guide/indexing.html#returning-a-view-versus-a-copy\n",
      "  L14subset['Value_in_Rs']=L14subset['Value_in_Rs'].astype(float)\n",
      "C:\\Users\\DIID\\AppData\\Local\\Temp\\ipykernel_3700\\3137296924.py:6: SettingWithCopyWarning: \n",
      "A value is trying to be set on a copy of a slice from a DataFrame.\n",
      "Try using .loc[row_indexer,col_indexer] = value instead\n",
      "\n",
      "See the caveats in the documentation: https://pandas.pydata.org/pandas-docs/stable/user_guide/indexing.html#returning-a-view-versus-a-copy\n",
      "  L14subset['Item_Code']=L14subset['Item_Code'].astype(int)\n"
     ]
    }
   ],
   "source": [
    "#Food Items\n",
    "# Subset data for level 14\n",
    "L14subset= Level14[['HH_ID', 'Questionnaire No.', 'Item Code', 'Value (in Rs)']]\n",
    "L14subset.columns = ['HH_ID', 'Questionnaire_No', 'Item_Code', 'Value_in_Rs']\n",
    "L14subset['Value_in_Rs']=L14subset['Value_in_Rs'].astype(float)\n",
    "L14subset['Item_Code']=L14subset['Item_Code'].astype(int)\n",
    "FoodSummary = L14subset[L14subset['Questionnaire_No'] == \"F\"]\n",
    "\n",
    "# Food expenses\n",
    "Food30 = expense_summariser(FoodSummary, [129, 139, 159, 179],1, \"Food_30days\")  # 30-day items\n",
    "Food07 = expense_summariser(FoodSummary, [169, 219, 239, 249, 199, 189, 269, 279, 289, 299], 30 / 7, \"Food_07days\")  # 7-day items\n",
    "\n",
    "# Total Food expenses in 30 days\n",
    "Food = Food30.merge(Food07 , on ='HH_ID', how= 'left')\n",
    "Food=Food.fillna(0)\n",
    "Food['Food_Expense']= Food['Food_30days'] + Food['Food_07days']"
   ]
  },
  {
   "cell_type": "code",
   "execution_count": 19,
   "id": "13130721-9de7-4bbc-8ac2-bc6ce9641ebe",
   "metadata": {},
   "outputs": [],
   "source": [
    "# Separate data into categories: Consumables\n",
    "ConsumablesSummary = L14subset[L14subset['Questionnaire_No'] == \"C\"]\n",
    "# Consumables expenses $ 539 for imputed\n",
    "Consumables30 = expense_summariser(ConsumablesSummary, [349, 459, 479, 429, 519, 499, 439, 529],1,\"Consumable_30days\")  # 30-day items\n",
    "Consumables07 = expense_summariser(ConsumablesSummary, [309, 319, 329], 30 / 7,\"Consumable_07days\")  # 7-day items\n",
    "Consumables365 = expense_summariser(ConsumablesSummary, [409, 419, 899], 30 / 365,\"Consumable_365days\")  # 365-day items\n",
    "\n",
    "Consumable = Consumables30.merge(Consumables07 , on ='HH_ID', how= 'left')\n",
    "Consumable=Consumable.merge(Consumables365 , on ='HH_ID', how= 'left')\n",
    "Consumable=Consumable.fillna(0)\n",
    "Consumable['Consumable_Expense']= Consumable['Consumable_30days'] + Consumable['Consumable_07days'] + Consumable['Consumable_365days']"
   ]
  },
  {
   "cell_type": "code",
   "execution_count": 21,
   "id": "21fbda7e-2ba1-4720-bdf8-6fb9a5548b42",
   "metadata": {},
   "outputs": [],
   "source": [
    "# Durables\n",
    "DurablesSummary = L14subset[L14subset['Questionnaire_No'] == \"D\"]\n",
    "\n",
    "# Durables expenses\n",
    "Durables365 = expense_summariser(DurablesSummary, DurablesSummary['Item_Code'].tolist(), 30 / 365,\"Durable_365days\")  # 365-day items\n",
    "Durables365=Durables365.fillna(0)"
   ]
  },
  {
   "cell_type": "code",
   "execution_count": 23,
   "id": "8f5b00cf-1649-417b-b9f0-a64204c76c0e",
   "metadata": {},
   "outputs": [],
   "source": [
    "Consumption_All= Food.merge(Consumable, on ='HH_ID', how= 'left')\n",
    "Consumption_All= Consumption_All.merge(Durables365, on ='HH_ID', how= 'left')"
   ]
  },
  {
   "cell_type": "code",
   "execution_count": 25,
   "id": "7cb14961-02f3-4c58-b3b9-03b8c37d4016",
   "metadata": {},
   "outputs": [],
   "source": [
    "Consumption_All= Food.merge(Consumable, on ='HH_ID', how= 'left')\n",
    "Consumption_All= Consumption_All.merge(Durables365, on ='HH_ID', how= 'left')\n",
    "HH_Data=HH_Data.merge(Consumption_All[['HH_ID','Food_Expense','Consumable_Expense','Durable_365days']], on= 'HH_ID', how= 'left')\n",
    "HH_Data[['C', 'D', 'F']]=HH_Data[['C', 'D', 'F']].astype(int)"
   ]
  },
  {
   "cell_type": "code",
   "execution_count": 27,
   "id": "a0963bdd-31ef-4320-98db-8b4d97621ff7",
   "metadata": {},
   "outputs": [],
   "source": [
    "HH_Data['Multiplier']=HH_Data['Multiplier'].astype(float)\n",
    "HH_Data['Weight']=(HH_Data['Multiplier'])/100\n",
    "HH_Data['TotalExpense'] = HH_Data['Food_Expense'] + (HH_Data['Consumable_Expense'])*(HH_Data['F'])/(HH_Data['C']) + (HH_Data['Durable_365days']) * (HH_Data['F']) /(HH_Data['D'])\n",
    "HH_Data['MPCE'] = HH_Data['TotalExpense'] / HH_Data['F']\n",
    "HH_Data['WtdTotalExpense']=HH_Data['TotalExpense']*HH_Data['Weight']\n",
    "HH_Data['WtdHH_in_F']=HH_Data['F']*HH_Data['Weight']"
   ]
  },
  {
   "cell_type": "code",
   "execution_count": 29,
   "id": "21d8f3bb-1c62-41b4-9dc0-c0061df20596",
   "metadata": {},
   "outputs": [
    {
     "data": {
      "text/html": [
       "<div>\n",
       "<style scoped>\n",
       "    .dataframe tbody tr th:only-of-type {\n",
       "        vertical-align: middle;\n",
       "    }\n",
       "\n",
       "    .dataframe tbody tr th {\n",
       "        vertical-align: top;\n",
       "    }\n",
       "\n",
       "    .dataframe thead th {\n",
       "        text-align: right;\n",
       "    }\n",
       "</style>\n",
       "<table border=\"1\" class=\"dataframe\">\n",
       "  <thead>\n",
       "    <tr style=\"text-align: right;\">\n",
       "      <th></th>\n",
       "      <th>Sector</th>\n",
       "      <th>MPCE</th>\n",
       "    </tr>\n",
       "  </thead>\n",
       "  <tbody>\n",
       "    <tr>\n",
       "      <th>0</th>\n",
       "      <td>1</td>\n",
       "      <td>3773.052260</td>\n",
       "    </tr>\n",
       "    <tr>\n",
       "      <th>1</th>\n",
       "      <td>2</td>\n",
       "      <td>6458.691602</td>\n",
       "    </tr>\n",
       "  </tbody>\n",
       "</table>\n",
       "</div>"
      ],
      "text/plain": [
       "  Sector         MPCE\n",
       "0      1  3773.052260\n",
       "1      2  6458.691602"
      ]
     },
     "execution_count": 29,
     "metadata": {},
     "output_type": "execute_result"
    }
   ],
   "source": [
    "(HH_Data.groupby(['Sector'])['WtdTotalExpense'].sum() / HH_Data.groupby(['Sector'])['WtdHH_in_F'].sum()).reset_index(name='MPCE')"
   ]
  },
  {
   "cell_type": "code",
   "execution_count": 31,
   "id": "306f1f10-2476-4bfb-9237-290302ae5db6",
   "metadata": {},
   "outputs": [
    {
     "data": {
      "text/html": [
       "<div>\n",
       "<style scoped>\n",
       "    .dataframe tbody tr th:only-of-type {\n",
       "        vertical-align: middle;\n",
       "    }\n",
       "\n",
       "    .dataframe tbody tr th {\n",
       "        vertical-align: top;\n",
       "    }\n",
       "\n",
       "    .dataframe thead th {\n",
       "        text-align: right;\n",
       "    }\n",
       "</style>\n",
       "<table border=\"1\" class=\"dataframe\">\n",
       "  <thead>\n",
       "    <tr style=\"text-align: right;\">\n",
       "      <th></th>\n",
       "      <th>State</th>\n",
       "      <th>Sector</th>\n",
       "      <th>MPCE</th>\n",
       "    </tr>\n",
       "  </thead>\n",
       "  <tbody>\n",
       "    <tr>\n",
       "      <th>0</th>\n",
       "      <td>01</td>\n",
       "      <td>1</td>\n",
       "      <td>4295.693203</td>\n",
       "    </tr>\n",
       "    <tr>\n",
       "      <th>1</th>\n",
       "      <td>01</td>\n",
       "      <td>2</td>\n",
       "      <td>6178.501773</td>\n",
       "    </tr>\n",
       "    <tr>\n",
       "      <th>2</th>\n",
       "      <td>02</td>\n",
       "      <td>1</td>\n",
       "      <td>5560.850141</td>\n",
       "    </tr>\n",
       "    <tr>\n",
       "      <th>3</th>\n",
       "      <td>02</td>\n",
       "      <td>2</td>\n",
       "      <td>8075.279338</td>\n",
       "    </tr>\n",
       "    <tr>\n",
       "      <th>4</th>\n",
       "      <td>03</td>\n",
       "      <td>1</td>\n",
       "      <td>5314.744092</td>\n",
       "    </tr>\n",
       "    <tr>\n",
       "      <th>...</th>\n",
       "      <td>...</td>\n",
       "      <td>...</td>\n",
       "      <td>...</td>\n",
       "    </tr>\n",
       "    <tr>\n",
       "      <th>67</th>\n",
       "      <td>35</td>\n",
       "      <td>2</td>\n",
       "      <td>10268.150702</td>\n",
       "    </tr>\n",
       "    <tr>\n",
       "      <th>68</th>\n",
       "      <td>36</td>\n",
       "      <td>1</td>\n",
       "      <td>4802.229901</td>\n",
       "    </tr>\n",
       "    <tr>\n",
       "      <th>69</th>\n",
       "      <td>36</td>\n",
       "      <td>2</td>\n",
       "      <td>8158.441165</td>\n",
       "    </tr>\n",
       "    <tr>\n",
       "      <th>70</th>\n",
       "      <td>37</td>\n",
       "      <td>1</td>\n",
       "      <td>4035.291713</td>\n",
       "    </tr>\n",
       "    <tr>\n",
       "      <th>71</th>\n",
       "      <td>37</td>\n",
       "      <td>2</td>\n",
       "      <td>6214.506789</td>\n",
       "    </tr>\n",
       "  </tbody>\n",
       "</table>\n",
       "<p>72 rows × 3 columns</p>\n",
       "</div>"
      ],
      "text/plain": [
       "   State Sector          MPCE\n",
       "0     01      1   4295.693203\n",
       "1     01      2   6178.501773\n",
       "2     02      1   5560.850141\n",
       "3     02      2   8075.279338\n",
       "4     03      1   5314.744092\n",
       "..   ...    ...           ...\n",
       "67    35      2  10268.150702\n",
       "68    36      1   4802.229901\n",
       "69    36      2   8158.441165\n",
       "70    37      1   4035.291713\n",
       "71    37      2   6214.506789\n",
       "\n",
       "[72 rows x 3 columns]"
      ]
     },
     "execution_count": 31,
     "metadata": {},
     "output_type": "execute_result"
    }
   ],
   "source": [
    "(HH_Data.groupby(['State','Sector'])['WtdTotalExpense'].sum() / HH_Data.groupby(['State','Sector'])['WtdHH_in_F'].sum()).reset_index(name='MPCE')"
   ]
  },
  {
   "cell_type": "raw",
   "id": "034df013-d14b-4755-b452-95da47b10355",
   "metadata": {},
   "source": [
    "####Variable Creation using Person Level Data"
   ]
  },
  {
   "cell_type": "code",
   "execution_count": 41,
   "id": "a5961f01-72a3-4294-aa82-5405fd3e4f79",
   "metadata": {},
   "outputs": [
    {
     "data": {
      "text/plain": [
       "Index(['Questionnaire No.', 'Level', 'Person Srl No.',\n",
       "       'Relation to head (code)', 'Gender', 'Age(in years)',\n",
       "       'Marital Status (code)', 'Highest educational level attained (code)',\n",
       "       'Total year of education completed',\n",
       "       'Whether used internet from any location during last 30 days',\n",
       "       'No. of days stayed away from home during last 30 days',\n",
       "       'No. of meals usually taken in a day',\n",
       "       'No. of meals taken during last 30 days from school, balwadi etc.',\n",
       "       'No. of meals taken during last 30 days from employer as\\r\\r\\nperquisites or part of wage',\n",
       "       'No. of meals taken during last 30 days  others',\n",
       "       'No. of meals taken during last 30 days on payment',\n",
       "       'No. of meals taken during last 30 days at home',\n",
       "       'Status of Member as on revisit',\n",
       "       'FDQ original member(generated field)', 'Multiplier', 'HH_ID'],\n",
       "      dtype='object')"
      ]
     },
     "execution_count": 41,
     "metadata": {},
     "output_type": "execute_result"
    }
   ],
   "source": [
    "Level2.columns"
   ]
  },
  {
   "cell_type": "code",
   "execution_count": 119,
   "id": "27d2b698-10f8-42ae-9bd2-5b13a35827cc",
   "metadata": {},
   "outputs": [],
   "source": [
    "import numpy as np"
   ]
  },
  {
   "cell_type": "code",
   "execution_count": 117,
   "id": "b2ae92db-d175-4d1c-a467-5e3e1fbc2f27",
   "metadata": {},
   "outputs": [
    {
     "name": "stderr",
     "output_type": "stream",
     "text": [
      "C:\\Users\\Hp\\AppData\\Local\\Temp\\ipykernel_9368\\1244482126.py:4: SettingWithCopyWarning: \n",
      "A value is trying to be set on a copy of a slice from a DataFrame.\n",
      "Try using .loc[row_indexer,col_indexer] = value instead\n",
      "\n",
      "See the caveats in the documentation: https://pandas.pydata.org/pandas-docs/stable/user_guide/indexing.html#returning-a-view-versus-a-copy\n",
      "  Level2_Subset['Total year of education completed']=Level2_Subset['Total year of education completed'].replace('',np.nan).astype(float)\n",
      "C:\\Users\\Hp\\AppData\\Local\\Temp\\ipykernel_9368\\1244482126.py:5: SettingWithCopyWarning: \n",
      "A value is trying to be set on a copy of a slice from a DataFrame.\n",
      "Try using .loc[row_indexer,col_indexer] = value instead\n",
      "\n",
      "See the caveats in the documentation: https://pandas.pydata.org/pandas-docs/stable/user_guide/indexing.html#returning-a-view-versus-a-copy\n",
      "  Level2_Subset['Total year of education completed']=Level2_Subset['Total year of education completed'].replace(np.nan,0).astype(int)\n",
      "C:\\Users\\Hp\\AppData\\Local\\Temp\\ipykernel_9368\\1244482126.py:6: SettingWithCopyWarning: \n",
      "A value is trying to be set on a copy of a slice from a DataFrame.\n",
      "Try using .loc[row_indexer,col_indexer] = value instead\n",
      "\n",
      "See the caveats in the documentation: https://pandas.pydata.org/pandas-docs/stable/user_guide/indexing.html#returning-a-view-versus-a-copy\n",
      "  Level2_Subset['Age(in years)']=Level2_Subset['Age(in years)'].astype(int)\n"
     ]
    }
   ],
   "source": [
    "Level2_Subset=Level2[['HH_ID','Person Srl No.','Relation to head (code)', 'Gender', 'Age(in years)','Marital Status (code)', 'Highest educational level attained (code)',\n",
    "       'Total year of education completed']]\n",
    "\n",
    "Level2_Subset['Total year of education completed']=Level2_Subset['Total year of education completed'].replace('',np.nan).astype(float)\n",
    "Level2_Subset['Total year of education completed']=Level2_Subset['Total year of education completed'].replace(np.nan,0).astype(int)\n",
    "Level2_Subset['Age(in years)']=Level2_Subset['Age(in years)'].astype(int)"
   ]
  },
  {
   "cell_type": "code",
   "execution_count": 121,
   "id": "c7dce8f6-3532-4c9c-bf5f-64eb265e1706",
   "metadata": {},
   "outputs": [],
   "source": [
    "HHHead_Data= Level2_Subset[Level2_Subset['Relation to head (code)']=='1']"
   ]
  },
  {
   "cell_type": "code",
   "execution_count": 123,
   "id": "af5bccf1-8f61-4912-a5d7-9af3b283a132",
   "metadata": {},
   "outputs": [],
   "source": [
    "HHHead_Data.columns=['HH_ID', 'Person Srl No.', 'Relation to head (code)', 'Gender_HH_Head',\n",
    "       'Age_HH_Head', 'Marital Status (code)',\n",
    "       'Highest educational level attained (code)',\n",
    "       'Total year of education completed']"
   ]
  },
  {
   "cell_type": "code",
   "execution_count": 125,
   "id": "e4bd92bc-08e7-4f06-aeea-96a73bb53c02",
   "metadata": {},
   "outputs": [],
   "source": [
    "def Ind_year_of_edu(x):\n",
    "    if (x<=5):\n",
    "        return '0-5 years'\n",
    "    if (x >5) & (x<=9):\n",
    "        return '5-9 years'\n",
    "    else:\n",
    "        return '>10 years'"
   ]
  },
  {
   "cell_type": "code",
   "execution_count": 127,
   "id": "cba42947-2cd3-477e-9435-57f602636df5",
   "metadata": {},
   "outputs": [],
   "source": [
    "def Ind_highest_level_of_eduction(x):\n",
    "    if x=='01':\n",
    "        return 'Not_Literate'\n",
    "    if x in ['02','03']:\n",
    "        return 'Literate_or_belowPrimary'\n",
    "    if x in ['04','05']:\n",
    "        return 'Primary_or_Middle'\n",
    "    if x  in ['06','08','07','10']:\n",
    "        return 'Secondary_or_higher_secondary'\n",
    "    if x in ['11','12','13']:\n",
    "        return 'graduate and above'"
   ]
  },
  {
   "cell_type": "code",
   "execution_count": 129,
   "id": "a8376faf-4cad-485d-9d17-f9781da6ee93",
   "metadata": {},
   "outputs": [
    {
     "name": "stderr",
     "output_type": "stream",
     "text": [
      "C:\\Users\\Hp\\AppData\\Local\\Temp\\ipykernel_9368\\1153721337.py:1: SettingWithCopyWarning: \n",
      "A value is trying to be set on a copy of a slice from a DataFrame.\n",
      "Try using .loc[row_indexer,col_indexer] = value instead\n",
      "\n",
      "See the caveats in the documentation: https://pandas.pydata.org/pandas-docs/stable/user_guide/indexing.html#returning-a-view-versus-a-copy\n",
      "  HHHead_Data['Ind_highest_level_of_eduction']=HHHead_Data['Highest educational level attained (code)'].apply(lambda x: Ind_highest_level_of_eduction(x))\n",
      "C:\\Users\\Hp\\AppData\\Local\\Temp\\ipykernel_9368\\1153721337.py:2: SettingWithCopyWarning: \n",
      "A value is trying to be set on a copy of a slice from a DataFrame.\n",
      "Try using .loc[row_indexer,col_indexer] = value instead\n",
      "\n",
      "See the caveats in the documentation: https://pandas.pydata.org/pandas-docs/stable/user_guide/indexing.html#returning-a-view-versus-a-copy\n",
      "  HHHead_Data['Ind_year_of_edu']=HHHead_Data['Total year of education completed'].apply(lambda x: Ind_year_of_edu(x))\n"
     ]
    }
   ],
   "source": [
    "HHHead_Data['Ind_highest_level_of_eduction']=HHHead_Data['Highest educational level attained (code)'].apply(lambda x: Ind_highest_level_of_eduction(x))\n",
    "HHHead_Data['Ind_year_of_edu']=HHHead_Data['Total year of education completed'].apply(lambda x: Ind_year_of_edu(x))"
   ]
  },
  {
   "cell_type": "code",
   "execution_count": 131,
   "id": "9973750f-5f0d-44a3-bc49-92a79c5bbdef",
   "metadata": {},
   "outputs": [],
   "source": [
    "#### Share of different age group in household"
   ]
  },
  {
   "cell_type": "code",
   "execution_count": 133,
   "id": "943e94fd-da98-486f-832d-b95975527dcf",
   "metadata": {
    "scrolled": true
   },
   "outputs": [
    {
     "name": "stderr",
     "output_type": "stream",
     "text": [
      "C:\\Users\\Hp\\AppData\\Local\\Temp\\ipykernel_9368\\2164088429.py:5: SettingWithCopyWarning: \n",
      "A value is trying to be set on a copy of a slice from a DataFrame.\n",
      "Try using .loc[row_indexer,col_indexer] = value instead\n",
      "\n",
      "See the caveats in the documentation: https://pandas.pydata.org/pandas-docs/stable/user_guide/indexing.html#returning-a-view-versus-a-copy\n",
      "  Level2_Subset['Age_Group'] = pd.cut(Level2_Subset['Age(in years)'], bins=bins, labels=labels, right=True)\n",
      "C:\\Users\\Hp\\AppData\\Local\\Temp\\ipykernel_9368\\2164088429.py:8: FutureWarning: The default of observed=False is deprecated and will be changed to True in a future version of pandas. Pass observed=False to retain current behavior or observed=True to adopt the future default and silence this warning.\n",
      "  age_group_counts = Level2_Subset.groupby(['HH_ID', 'Age_Group']).size().unstack(fill_value=0)\n"
     ]
    }
   ],
   "source": [
    "# Define age group bins and labels\n",
    "bins = [0, 14, 24, 59, float('inf')]\n",
    "labels = ['0-14', '15-24', '25-59', '60 and older']\n",
    "# Create a new column 'Age_Group' to categorize ages into bins\n",
    "Level2_Subset['Age_Group'] = pd.cut(Level2_Subset['Age(in years)'], bins=bins, labels=labels, right=True)\n",
    "\n",
    "# Count the number of members in each age group for each household\n",
    "age_group_counts = Level2_Subset.groupby(['HH_ID', 'Age_Group']).size().unstack(fill_value=0)\n",
    "\n",
    "# Calculate the total number of members in each household\n",
    "total_members = age_group_counts.sum(axis=1)\n",
    "\n",
    "# Calculate the share of household members in each age group\n",
    "age_group_shares = age_group_counts.div(total_members, axis=0)\n",
    "\n",
    "# Rename columns for clarity\n",
    "age_group_shares.columns = ['Share of HH members in 0-14',\n",
    "                            'Share of HH members in 15-24',\n",
    "                            'Share of HH members in 25-59',\n",
    "                            'Share of HH members in 60 and older']\n",
    "age_group_shares=age_group_shares.reset_index()"
   ]
  },
  {
   "cell_type": "code",
   "execution_count": 135,
   "id": "38ec0858-4904-4956-a8d1-812acdf27e8a",
   "metadata": {},
   "outputs": [],
   "source": [
    "#Joining dataset created So far"
   ]
  },
  {
   "cell_type": "code",
   "execution_count": 137,
   "id": "f1bba560-834a-480d-934d-dfb36b5d4dda",
   "metadata": {},
   "outputs": [],
   "source": [
    "HH_Data = HH_Data.merge(HHHead_Data, on ='HH_ID', how= 'left')\n",
    "HH_Data=HH_Data.merge(age_group_shares, on= 'HH_ID', how='left')"
   ]
  },
  {
   "cell_type": "code",
   "execution_count": 139,
   "id": "182c910b-5a99-4601-9088-95bc03e14b76",
   "metadata": {},
   "outputs": [
    {
     "data": {
      "text/plain": [
       "Index(['HH_ID', 'Sector', 'State', 'NSS-Region', 'District', 'Multiplier',\n",
       "       'Household Type', 'Religion of the head of the household',\n",
       "       'Social Group of the head of the household', 'HH Size (For FDQ)',\n",
       "       'NCO-2015 Code(3-digit)', 'NIC-2008 Code(5-digit)',\n",
       "       'Whether household possessed one or more item as on the date of the survey- Television',\n",
       "       'Whether household possessed one or more item as on the date of the survey- Radio',\n",
       "       'Whether household possessed one or more item as on the date of the survey - Laptop/PC',\n",
       "       'Whether household possessed one or more item as on the date of the survey- Mobile handset',\n",
       "       'Whether household possessed one or more item as on the date of the survey- Bicycle',\n",
       "       'Whether household possessed one or more item as on the date of the survey- Motorcycle, scooter',\n",
       "       'Whether household possessed one or more item as on the date of the survey- Motor car/jeep/van',\n",
       "       'Whether household possessed one or more item as on the date of the survey- Trucks',\n",
       "       'Whether household possessed one or more item as on the date of the survey - Animal cart',\n",
       "       'Whether household possessed one or more item as on the date of the survey- Refrigerator',\n",
       "       'Whether household possessed one or more item as on the date of the survey- Washing machine',\n",
       "       'Whether household possessed one or more item as on the date of the survey- Air conditioner/air cooler',\n",
       "       'C', 'D', 'F', 'Food_Expense', 'Consumable_Expense', 'Durable_365days',\n",
       "       'Weight', 'TotalExpense', 'MPCE', 'WtdTotalExpense', 'WtdHH_in_F',\n",
       "       'Person Srl No.', 'Relation to head (code)', 'Gender_HH_Head',\n",
       "       'Age_HH_Head', 'Marital Status (code)',\n",
       "       'Highest educational level attained (code)',\n",
       "       'Total year of education completed', 'Ind_highest_level_of_eduction',\n",
       "       'Ind_year_of_edu', 'Share of HH members in 0-14',\n",
       "       'Share of HH members in 15-24', 'Share of HH members in 25-59',\n",
       "       'Share of HH members in 60 and older'],\n",
       "      dtype='object')"
      ]
     },
     "execution_count": 139,
     "metadata": {},
     "output_type": "execute_result"
    }
   ],
   "source": [
    "HH_Data.columns"
   ]
  },
  {
   "cell_type": "code",
   "execution_count": 141,
   "id": "3bf15264-3bd4-4ad4-828f-cbf4e2b11201",
   "metadata": {},
   "outputs": [],
   "source": [
    "HH_Data.columns=['HH_ID', 'Sector', 'State', 'NSS-Region', 'District', 'Multiplier',\n",
    "       'Household Type', 'Religion_HH_head',\n",
    "       'Social_Group_HH_head', 'HH Size (For FDQ)',\n",
    "       'NCO-2015 Code(3-digit)', 'NIC-2008 Code(5-digit)',\n",
    "        'Is_HH_Have_Television','Is_HH_Have_Radio','Is_HH_Have_Laptop_PC','Is_HH_Have_Mobile_handset','Is_HH_Have_Bicycle',\n",
    "       'Is_HH_Have_Motorcycle_scooter','Is_HH_Have_Motorcar_jeep_van','Is_HH_Have_Trucks','Is_HH_Have_Animal_cart','Is_HH_Have_Refrigerator',\n",
    "       'Is_HH_Have_Washing_machine','Is_HH_Have_Airconditioner_aircooler',\n",
    "        'C', 'D', 'F','Food_Expense', 'Consumable_Expense', 'Durable_365days', 'Weight',\n",
    "       'TotalExpense', 'MPCE', 'WtdTotalExpense', 'WtdHH_in_F',\n",
    "       'Person Srl No.', 'Relation to head (code)', 'Gender_HH_Head',\n",
    "       'Age_HH_Head', 'Marital_Status_HH_head',\n",
    "        'Highest educational level attained (code)',\n",
    "        'Total_year_of_education_completed_HH_head','Ind_highest_level_of_eduction_HH_head',\n",
    "       'Ind_year_of_edu', 'Share of HH members in 0-14',\n",
    "       'Share of HH members in 15-24', 'Share of HH members in 25-59',\n",
    "       'Share of HH members in 60 and older']"
   ]
  },
  {
   "cell_type": "code",
   "execution_count": 282,
   "id": "d3221f70-45bb-4c48-9b0b-fffc2873179e",
   "metadata": {},
   "outputs": [],
   "source": [
    "##Creating Marriage related variable\n",
    "#1. Share of married members in household\n",
    "#2. share of graduate and above person in household\n",
    "#3. avrage year of schooling in household"
   ]
  },
  {
   "cell_type": "code",
   "execution_count": 143,
   "id": "eaf75ba5-83b3-4b5b-a158-0c5023d95064",
   "metadata": {},
   "outputs": [
    {
     "data": {
      "text/plain": [
       "Index(['HH_ID', 'Person Srl No.', 'Relation to head (code)', 'Gender',\n",
       "       'Age(in years)', 'Marital Status (code)',\n",
       "       'Highest educational level attained (code)',\n",
       "       'Total year of education completed', 'Age_Group'],\n",
       "      dtype='object')"
      ]
     },
     "execution_count": 143,
     "metadata": {},
     "output_type": "execute_result"
    }
   ],
   "source": [
    "Level2_Subset.columns"
   ]
  },
  {
   "cell_type": "code",
   "execution_count": 145,
   "id": "757da0f0-c05a-4de8-bb56-99b36186cd72",
   "metadata": {
    "scrolled": true
   },
   "outputs": [
    {
     "name": "stderr",
     "output_type": "stream",
     "text": [
      "C:\\Users\\Hp\\AppData\\Local\\Temp\\ipykernel_9368\\311920899.py:3: SettingWithCopyWarning: \n",
      "A value is trying to be set on a copy of a slice from a DataFrame.\n",
      "Try using .loc[row_indexer,col_indexer] = value instead\n",
      "\n",
      "See the caveats in the documentation: https://pandas.pydata.org/pandas-docs/stable/user_guide/indexing.html#returning-a-view-versus-a-copy\n",
      "  Level2_Subset['Is_CurrentlyMarried'] = Level2_Subset['Marital Status (code)'].apply(lambda x: 1 if x == '2' else 0)\n",
      "C:\\Users\\Hp\\AppData\\Local\\Temp\\ipykernel_9368\\311920899.py:9: SettingWithCopyWarning: \n",
      "A value is trying to be set on a copy of a slice from a DataFrame.\n",
      "Try using .loc[row_indexer,col_indexer] = value instead\n",
      "\n",
      "See the caveats in the documentation: https://pandas.pydata.org/pandas-docs/stable/user_guide/indexing.html#returning-a-view-versus-a-copy\n",
      "  Level2_Subset['Is_Graduate_Or_Above'] = Level2_Subset['Highest educational level attained (code)'].apply(lambda x: 1 if x in ['11','12','13'] else 0)\n"
     ]
    }
   ],
   "source": [
    "# 1. Share of currently married members in the household\n",
    "\n",
    "Level2_Subset['Is_CurrentlyMarried'] = Level2_Subset['Marital Status (code)'].apply(lambda x: 1 if x == '2' else 0)\n",
    "\n",
    "# Calculate the share of married members per household\n",
    "CurrentlyMarried_share = Level2_Subset.groupby('HH_ID')['Is_CurrentlyMarried'].mean()\n",
    "\n",
    "# 2. share of graduates and above in the household\n",
    "Level2_Subset['Is_Graduate_Or_Above'] = Level2_Subset['Highest educational level attained (code)'].apply(lambda x: 1 if x in ['11','12','13'] else 0)\n",
    "\n",
    "share_graduates =  Level2_Subset.groupby('HH_ID')['Is_Graduate_Or_Above'].mean()\n",
    "\n",
    "# 3. Average years of schooling for the household\n",
    "#Level2_Subset_above_15 = Level2_Subset[Level2_Subset['Age(in years)'] > 15]\n",
    "average_schooling = Level2_Subset.groupby('HH_ID')['Total year of education completed'].mean()\n",
    "\n",
    "# Combine all the results into one DataFrame\n",
    "household_stats = pd.DataFrame({\n",
    "    'Share of Married Members': CurrentlyMarried_share,\n",
    "    'share of Graduate and Above': share_graduates,\n",
    "    'average_schooling': average_schooling\n",
    "})\n"
   ]
  },
  {
   "cell_type": "code",
   "execution_count": 147,
   "id": "aa6807c9-3967-4827-b9b9-e8bcc0e784e0",
   "metadata": {},
   "outputs": [],
   "source": [
    "HH_Data= HH_Data.merge(household_stats, on ='HH_ID', how= 'left')"
   ]
  },
  {
   "cell_type": "code",
   "execution_count": 149,
   "id": "95f6b633-58dc-492d-b442-159a1a00947b",
   "metadata": {},
   "outputs": [],
   "source": [
    "HH_Data.to_excel('HH_Data_new120824.xlsx', index= False)"
   ]
  },
  {
   "cell_type": "code",
   "execution_count": 165,
   "id": "ea8c8c5a-9a10-49ca-b7e4-32ac18682d7b",
   "metadata": {},
   "outputs": [],
   "source": [
    "HH_Data[['Is_HH_Have_Television', 'Is_HH_Have_Radio', 'Is_HH_Have_Laptop_PC',\n",
    "       'Is_HH_Have_Mobile_handset', 'Is_HH_Have_Bicycle',\n",
    "       'Is_HH_Have_Motorcycle_scooter', 'Is_HH_Have_Motorcar_jeep_van',\n",
    "       'Is_HH_Have_Trucks', 'Is_HH_Have_Animal_cart',\n",
    "       'Is_HH_Have_Refrigerator', 'Is_HH_Have_Washing_machine',\n",
    "       'Is_HH_Have_Airconditioner_aircooler']]=HH_Data[['Is_HH_Have_Television', 'Is_HH_Have_Radio', 'Is_HH_Have_Laptop_PC',\n",
    "       'Is_HH_Have_Mobile_handset', 'Is_HH_Have_Bicycle',\n",
    "       'Is_HH_Have_Motorcycle_scooter', 'Is_HH_Have_Motorcar_jeep_van',\n",
    "       'Is_HH_Have_Trucks', 'Is_HH_Have_Animal_cart',\n",
    "       'Is_HH_Have_Refrigerator', 'Is_HH_Have_Washing_machine',\n",
    "       'Is_HH_Have_Airconditioner_aircooler']].replace(\"\", \"0\")"
   ]
  },
  {
   "cell_type": "code",
   "execution_count": 171,
   "id": "17b1a581-ca31-475a-99a4-7078fe665c1d",
   "metadata": {},
   "outputs": [
    {
     "data": {
      "text/plain": [
       "Index(['HH_ID', 'Sector', 'State', 'NSS-Region', 'District', 'Multiplier',\n",
       "       'Household Type', 'Religion_HH_head', 'Social_Group_HH_head',\n",
       "       'HH Size (For FDQ)', 'NCO-2015 Code(3-digit)', 'NIC-2008 Code(5-digit)',\n",
       "       'Is_HH_Have_Television', 'Is_HH_Have_Radio', 'Is_HH_Have_Laptop_PC',\n",
       "       'Is_HH_Have_Mobile_handset', 'Is_HH_Have_Bicycle',\n",
       "       'Is_HH_Have_Motorcycle_scooter', 'Is_HH_Have_Motorcar_jeep_van',\n",
       "       'Is_HH_Have_Trucks', 'Is_HH_Have_Animal_cart',\n",
       "       'Is_HH_Have_Refrigerator', 'Is_HH_Have_Washing_machine',\n",
       "       'Is_HH_Have_Airconditioner_aircooler', 'C', 'D', 'F', 'Food_Expense',\n",
       "       'Consumable_Expense', 'Durable_365days', 'Weight', 'TotalExpense',\n",
       "       'MPCE', 'WtdTotalExpense', 'WtdHH_in_F', 'Person Srl No.',\n",
       "       'Relation to head (code)', 'Gender_HH_Head', 'Age_HH_Head',\n",
       "       'Marital_Status_HH_head', 'Highest educational level attained (code)',\n",
       "       'Total_year_of_education_completed_HH_head',\n",
       "       'Ind_highest_level_of_eduction_HH_head', 'Ind_year_of_edu',\n",
       "       'Share of HH members in 0-14', 'Share of HH members in 15-24',\n",
       "       'Share of HH members in 25-59', 'Share of HH members in 60 and older',\n",
       "       'Share of Married Members', 'share of Graduate and Above',\n",
       "       'average_schooling'],\n",
       "      dtype='object')"
      ]
     },
     "execution_count": 171,
     "metadata": {},
     "output_type": "execute_result"
    }
   ],
   "source": [
    "HH_Data.columns"
   ]
  },
  {
   "cell_type": "code",
   "execution_count": 299,
   "id": "935f272f-c652-4852-8cb9-4cb7c6d9ea84",
   "metadata": {},
   "outputs": [],
   "source": [
    "HH_Data_v1=HH_Data[['HH_ID', 'Sector', 'State', 'NSS-Region', 'District',\n",
    "       'Household Type', 'Religion_HH_head', 'Social_Group_HH_head',\n",
    "       'HH Size (For FDQ)', 'NCO-2015 Code(3-digit)', 'NIC-2008 Code(5-digit)',\n",
    "       'Gender_HH_Head','Age_HH_Head', 'Marital_Status_HH_head',\n",
    "    'Ind_year_of_edu','Ind_highest_level_of_eduction_HH_head', 'Share of HH members in 0-14',\n",
    "       'Share of HH members in 15-24', 'Share of HH members in 25-59',\n",
    "       'Share of HH members in 60 and older', 'Share of Married Members',\n",
    "       'share of Graduate and Above', 'average_schooling','Weight','TotalExpense']]"
   ]
  },
  {
   "cell_type": "code",
   "execution_count": 301,
   "id": "251de948-b44b-4e21-b0f0-8ef2bca68c36",
   "metadata": {},
   "outputs": [],
   "source": [
    "HH_Data_v1.to_excel('HH_Data_new_v1.xlsx', index= False)"
   ]
  },
  {
   "cell_type": "code",
   "execution_count": 173,
   "id": "bd95200b-7ff2-47b9-8695-f28432f2b24c",
   "metadata": {},
   "outputs": [],
   "source": [
    "HH_Data_v2=HH_Data[['HH_ID', 'Sector', 'State', 'NSS-Region', 'District',\n",
    "       'Household Type', 'Religion_HH_head', 'Social_Group_HH_head',\n",
    "       'HH Size (For FDQ)', 'NCO-2015 Code(3-digit)', 'NIC-2008 Code(5-digit)',\n",
    "       'Is_HH_Have_Television', 'Is_HH_Have_Radio', 'Is_HH_Have_Laptop_PC',\n",
    "       'Is_HH_Have_Mobile_handset', 'Is_HH_Have_Bicycle',\n",
    "       'Is_HH_Have_Motorcycle_scooter', 'Is_HH_Have_Motorcar_jeep_van',\n",
    "       'Is_HH_Have_Trucks', 'Is_HH_Have_Animal_cart',\n",
    "       'Is_HH_Have_Refrigerator', 'Is_HH_Have_Washing_machine',\n",
    "       'Is_HH_Have_Airconditioner_aircooler', 'Gender_HH_Head', 'Age_HH_Head',\n",
    "       'Marital_Status_HH_head',\n",
    "       'Total_year_of_education_completed_HH_head',\n",
    "       'Ind_highest_level_of_eduction_HH_head',\n",
    "       'Share of HH members in 0-14', 'Share of HH members in 15-24',\n",
    "       'Share of HH members in 25-59', 'Share of HH members in 60 and older',\n",
    "       'Share of Married Members', 'share of Graduate and Above',\n",
    "       'average_schooling','Weight', 'TotalExpense']]"
   ]
  },
  {
   "cell_type": "code",
   "execution_count": 175,
   "id": "5f8cfebd-2f79-4b15-ad1d-46c7aba9c446",
   "metadata": {},
   "outputs": [],
   "source": [
    "HH_Data_v2.to_excel('HH_Data_new_v2120824.xlsx', index= False)"
   ]
  },
  {
   "cell_type": "code",
   "execution_count": 177,
   "id": "d81a323b-0716-4561-8f5c-27a1bd9b0658",
   "metadata": {},
   "outputs": [
    {
     "data": {
      "text/plain": [
       "0         30903.434442\n",
       "1         24208.706458\n",
       "2         31282.904110\n",
       "3         25315.976517\n",
       "4         17065.553816\n",
       "              ...     \n",
       "261741    25161.694716\n",
       "261742    32385.309198\n",
       "261743    28774.367906\n",
       "261744    25981.966732\n",
       "261745    14288.782779\n",
       "Name: TotalExpense, Length: 261746, dtype: float64"
      ]
     },
     "execution_count": 177,
     "metadata": {},
     "output_type": "execute_result"
    }
   ],
   "source": [
    "HH_Data_v2.TotalExpense"
   ]
  },
  {
   "cell_type": "code",
   "execution_count": 871,
   "id": "63fbb8f1-78b8-41a3-995a-b7b562cc3452",
   "metadata": {},
   "outputs": [],
   "source": [
    "#Exploratory Data Analysis"
   ]
  },
  {
   "cell_type": "code",
   "execution_count": 179,
   "id": "8c6641ba-b1e0-40a0-b739-dc189c47a96d",
   "metadata": {},
   "outputs": [
    {
     "data": {
      "application/vnd.jupyter.widget-view+json": {
       "model_id": "d87ea362e7b343eb822a3b7a469755b9",
       "version_major": 2,
       "version_minor": 0
      },
      "text/plain": [
       "                                             |                                             | [  0%]   00:00 ->…"
      ]
     },
     "metadata": {},
     "output_type": "display_data"
    },
    {
     "name": "stdout",
     "output_type": "stream",
     "text": [
      "Report SWEETVIZ_REPORT.html was generated! NOTEBOOK/COLAB USERS: the web browser MAY not pop up, regardless, the report IS saved in your notebook/colab files.\n"
     ]
    }
   ],
   "source": [
    "import sweetviz as sv\n",
    "\n",
    "my_report = sv.analyze(HH_Data_v2)\n",
    "my_report.show_html()"
   ]
  },
  {
   "cell_type": "code",
   "execution_count": 767,
   "id": "395aa780-d57d-46b1-a10c-e4a6ea3933e9",
   "metadata": {
    "scrolled": true
   },
   "outputs": [
    {
     "data": {
      "text/html": [
       "\n",
       "        <iframe\n",
       "            width=\"100%\"\n",
       "            height=\"475\"\n",
       "            src=\"http://LAPTOP-OJCJFVKR:40000/dtale/iframe/1\"\n",
       "            frameborder=\"0\"\n",
       "            allowfullscreen\n",
       "            \n",
       "        ></iframe>\n",
       "        "
      ],
      "text/plain": [
       "<IPython.lib.display.IFrame at 0x2955416f860>"
      ]
     },
     "metadata": {},
     "output_type": "display_data"
    },
    {
     "data": {
      "text/plain": []
     },
     "execution_count": 767,
     "metadata": {},
     "output_type": "execute_result"
    }
   ],
   "source": [
    "import dtale\n",
    "\n",
    "d = dtale.show(HH_Data_v2)\n",
    "d"
   ]
  },
  {
   "cell_type": "code",
   "execution_count": 771,
   "id": "a576b9e1-91e6-4cd8-95e1-e1683dceaa6b",
   "metadata": {},
   "outputs": [
    {
     "name": "stderr",
     "output_type": "stream",
     "text": [
      "2024-10-17 13:43:25,318 - INFO     - Pandas backend loaded 2.2.2\n",
      "2024-10-17 13:43:25,341 - INFO     - Numpy backend loaded 1.26.4\n",
      "2024-10-17 13:43:25,350 - INFO     - Pyspark backend NOT loaded\n",
      "2024-10-17 13:43:25,350 - INFO     - Python backend loaded\n"
     ]
    }
   ],
   "source": [
    "from ydata_profiling import ProfileReport\n",
    "\n",
    "profile = ProfileReport(HH_Data_v2, title=\"Profiling Report\")"
   ]
  },
  {
   "cell_type": "code",
   "execution_count": 181,
   "id": "cda8dc3c-5464-4d16-bf7b-b45027cc05ec",
   "metadata": {
    "scrolled": true
   },
   "outputs": [
    {
     "name": "stderr",
     "output_type": "stream",
     "text": [
      "C:\\Users\\Hp\\AppData\\Local\\Temp\\ipykernel_9368\\1693380996.py:47: DeprecationWarning: is_categorical_dtype is deprecated and will be removed in a future version. Use isinstance(dtype, pd.CategoricalDtype) instead\n",
      "  elif pd.api.types.is_categorical_dtype(df[column]) or pd.api.types.is_object_dtype(df[column]):\n",
      "C:\\Users\\Hp\\AppData\\Local\\Temp\\ipykernel_9368\\1693380996.py:47: DeprecationWarning: is_categorical_dtype is deprecated and will be removed in a future version. Use isinstance(dtype, pd.CategoricalDtype) instead\n",
      "  elif pd.api.types.is_categorical_dtype(df[column]) or pd.api.types.is_object_dtype(df[column]):\n",
      "C:\\Users\\Hp\\AppData\\Local\\Temp\\ipykernel_9368\\1693380996.py:47: DeprecationWarning: is_categorical_dtype is deprecated and will be removed in a future version. Use isinstance(dtype, pd.CategoricalDtype) instead\n",
      "  elif pd.api.types.is_categorical_dtype(df[column]) or pd.api.types.is_object_dtype(df[column]):\n"
     ]
    }
   ],
   "source": [
    "import pandas as pd\n",
    "import numpy as np\n",
    "\n",
    "# Function to calculate statistics for numeric variables\n",
    "def numeric_statistics(df, column):\n",
    "    stats_dict = {}\n",
    "    stats_dict['Variable Type'] = 'Numeric'\n",
    "    stats_dict['Count'] = df[column].count()  # Number of non-missing values\n",
    "    stats_dict['Missing Values'] = df[column].isnull().sum()\n",
    "    stats_dict['Mean'] = df[column].mean()\n",
    "    stats_dict['Median'] = df[column].median()\n",
    "    stats_dict['Mode'] = df[column].mode()[0] if not df[column].mode().empty else None\n",
    "    stats_dict['Min'] = df[column].min()\n",
    "    stats_dict['Max'] = df[column].max()\n",
    "    \n",
    "    # Deciles\n",
    "    deciles = np.percentile(df[column], np.arange(0, 101, 10))\n",
    "    for i, decile in enumerate(deciles):\n",
    "        stats_dict[f'Decile_{i+1}'] = decile  # Label deciles from 1 to 10\n",
    "    \n",
    "    # Percentiles\n",
    "    percentiles = np.percentile(df[column], [5, 25, 50, 75,95])\n",
    "    stats_dict['Percentile_5'] = percentiles[0]\n",
    "    stats_dict['Percentile_25'] = percentiles[1]\n",
    "    stats_dict['Percentile_50'] = percentiles[2]\n",
    "    stats_dict['Percentile_75'] = percentiles[3]\n",
    "    stats_dict['Percentile_95'] = percentiles[4]\n",
    "    \n",
    "    return stats_dict\n",
    "\n",
    "# Function to calculate statistics for categorical variables\n",
    "def categorical_statistics(df, column):\n",
    "    stats_dict = {}\n",
    "    stats_dict['Variable Type'] = 'Categorical'\n",
    "    stats_dict['Count'] = df[column].count()  # Number of non-missing values\n",
    "    stats_dict['Missing Values'] = df[column].isnull().sum()\n",
    "    stats_dict['Mode'] = df[column].mode()[0] if not df[column].mode().empty else None\n",
    "    return stats_dict\n",
    "\n",
    "# Function to perform EDA based on dtypes\n",
    "def eda_statistics(df):\n",
    "    eda_results = {}\n",
    "\n",
    "    for column in df.columns:\n",
    "        if pd.api.types.is_numeric_dtype(df[column]):\n",
    "            eda_results[column] = numeric_statistics(df, column)\n",
    "        elif pd.api.types.is_categorical_dtype(df[column]) or pd.api.types.is_object_dtype(df[column]):\n",
    "            eda_results[column] = categorical_statistics(df, column)\n",
    "        else:\n",
    "            eda_results[column] = \"Non-numeric and non-categorical type\"\n",
    "\n",
    "    return pd.DataFrame(eda_results).T\n",
    "\n",
    "# Generate the EDA statistics\n",
    "eda_results = eda_statistics(HH_Data_v2)\n"
   ]
  },
  {
   "cell_type": "code",
   "execution_count": 183,
   "id": "75ab09dd-380c-4844-9c03-76fb65b082ea",
   "metadata": {},
   "outputs": [],
   "source": [
    "eda_results.to_excel(r'C:\\Users\\Hp\\Desktop\\HCES2223\\Analysis\\New Result\\eda_results_v1.xlsx')"
   ]
  },
  {
   "cell_type": "code",
   "execution_count": 185,
   "id": "cabfaea3-fa71-4920-96cb-23d886303221",
   "metadata": {},
   "outputs": [
    {
     "name": "stdout",
     "output_type": "stream",
     "text": [
      "                                           Age_HH_Head  \\\n",
      "Age_HH_Head                                   1.000000   \n",
      "Total_year_of_education_completed_HH_head    -0.221837   \n",
      "Share of HH members in 0-14                  -0.337440   \n",
      "Share of HH members in 15-24                 -0.198413   \n",
      "Share of HH members in 25-59                 -0.102691   \n",
      "Share of HH members in 60 and older           0.589848   \n",
      "Share of Married Members                      0.189038   \n",
      "share of Graduate and Above                   0.070380   \n",
      "average_schooling                             0.004933   \n",
      "Weight                                       -0.041362   \n",
      "TotalExpense                                  0.095050   \n",
      "\n",
      "                                           Total_year_of_education_completed_HH_head  \\\n",
      "Age_HH_Head                                                                -0.221837   \n",
      "Total_year_of_education_completed_HH_head                                   1.000000   \n",
      "Share of HH members in 0-14                                                -0.023866   \n",
      "Share of HH members in 15-24                                               -0.001400   \n",
      "Share of HH members in 25-59                                                0.129153   \n",
      "Share of HH members in 60 and older                                        -0.110813   \n",
      "Share of Married Members                                                    0.067956   \n",
      "share of Graduate and Above                                                 0.544841   \n",
      "average_schooling                                                           0.749289   \n",
      "Weight                                                                     -0.087984   \n",
      "TotalExpense                                                                0.302564   \n",
      "\n",
      "                                           Share of HH members in 0-14  \\\n",
      "Age_HH_Head                                                  -0.337440   \n",
      "Total_year_of_education_completed_HH_head                    -0.023866   \n",
      "Share of HH members in 0-14                                   1.000000   \n",
      "Share of HH members in 15-24                                 -0.367275   \n",
      "Share of HH members in 25-59                                 -0.220159   \n",
      "Share of HH members in 60 and older                          -0.292579   \n",
      "Share of Married Members                                     -0.165067   \n",
      "share of Graduate and Above                                  -0.218822   \n",
      "average_schooling                                            -0.324718   \n",
      "Weight                                                        0.017469   \n",
      "TotalExpense                                                  0.043579   \n",
      "\n",
      "                                           Share of HH members in 15-24  \\\n",
      "Age_HH_Head                                                   -0.198413   \n",
      "Total_year_of_education_completed_HH_head                     -0.001400   \n",
      "Share of HH members in 0-14                                   -0.367275   \n",
      "Share of HH members in 15-24                                   1.000000   \n",
      "Share of HH members in 25-59                                  -0.369441   \n",
      "Share of HH members in 60 and older                           -0.258147   \n",
      "Share of Married Members                                      -0.244379   \n",
      "share of Graduate and Above                                   -0.033253   \n",
      "average_schooling                                              0.218834   \n",
      "Weight                                                         0.028736   \n",
      "TotalExpense                                                   0.010505   \n",
      "\n",
      "                                           Share of HH members in 25-59  \\\n",
      "Age_HH_Head                                                   -0.102691   \n",
      "Total_year_of_education_completed_HH_head                      0.129153   \n",
      "Share of HH members in 0-14                                   -0.220159   \n",
      "Share of HH members in 15-24                                  -0.369441   \n",
      "Share of HH members in 25-59                                   1.000000   \n",
      "Share of HH members in 60 and older                           -0.483492   \n",
      "Share of Married Members                                       0.242180   \n",
      "share of Graduate and Above                                    0.200184   \n",
      "average_schooling                                              0.202259   \n",
      "Weight                                                        -0.048142   \n",
      "TotalExpense                                                   0.052356   \n",
      "\n",
      "                                           Share of HH members in 60 and older  \\\n",
      "Age_HH_Head                                                           0.589848   \n",
      "Total_year_of_education_completed_HH_head                            -0.110813   \n",
      "Share of HH members in 0-14                                          -0.292579   \n",
      "Share of HH members in 15-24                                         -0.258147   \n",
      "Share of HH members in 25-59                                         -0.483492   \n",
      "Share of HH members in 60 and older                                   1.000000   \n",
      "Share of Married Members                                              0.128729   \n",
      "share of Graduate and Above                                           0.016444   \n",
      "average_schooling                                                    -0.135036   \n",
      "Weight                                                                0.006796   \n",
      "TotalExpense                                                         -0.101928   \n",
      "\n",
      "                                           Share of Married Members  \\\n",
      "Age_HH_Head                                                0.189038   \n",
      "Total_year_of_education_completed_HH_head                  0.067956   \n",
      "Share of HH members in 0-14                               -0.165067   \n",
      "Share of HH members in 15-24                              -0.244379   \n",
      "Share of HH members in 25-59                               0.242180   \n",
      "Share of HH members in 60 and older                        0.128729   \n",
      "Share of Married Members                                   1.000000   \n",
      "share of Graduate and Above                                0.063336   \n",
      "average_schooling                                          0.019121   \n",
      "Weight                                                     0.004464   \n",
      "TotalExpense                                               0.044222   \n",
      "\n",
      "                                           share of Graduate and Above  \\\n",
      "Age_HH_Head                                                   0.070380   \n",
      "Total_year_of_education_completed_HH_head                     0.544841   \n",
      "Share of HH members in 0-14                                  -0.218822   \n",
      "Share of HH members in 15-24                                 -0.033253   \n",
      "Share of HH members in 25-59                                  0.200184   \n",
      "Share of HH members in 60 and older                           0.016444   \n",
      "Share of Married Members                                      0.063336   \n",
      "share of Graduate and Above                                   1.000000   \n",
      "average_schooling                                             0.682248   \n",
      "Weight                                                       -0.067426   \n",
      "TotalExpense                                                  0.306292   \n",
      "\n",
      "                                           average_schooling    Weight  \\\n",
      "Age_HH_Head                                         0.004933 -0.041362   \n",
      "Total_year_of_education_completed_HH_head           0.749289 -0.087984   \n",
      "Share of HH members in 0-14                        -0.324718  0.017469   \n",
      "Share of HH members in 15-24                        0.218834  0.028736   \n",
      "Share of HH members in 25-59                        0.202259 -0.048142   \n",
      "Share of HH members in 60 and older                -0.135036  0.006796   \n",
      "Share of Married Members                            0.019121  0.004464   \n",
      "share of Graduate and Above                         0.682248 -0.067426   \n",
      "average_schooling                                   1.000000 -0.109961   \n",
      "Weight                                             -0.109961  1.000000   \n",
      "TotalExpense                                        0.362081 -0.089483   \n",
      "\n",
      "                                           TotalExpense  \n",
      "Age_HH_Head                                    0.095050  \n",
      "Total_year_of_education_completed_HH_head      0.302564  \n",
      "Share of HH members in 0-14                    0.043579  \n",
      "Share of HH members in 15-24                   0.010505  \n",
      "Share of HH members in 25-59                   0.052356  \n",
      "Share of HH members in 60 and older           -0.101928  \n",
      "Share of Married Members                       0.044222  \n",
      "share of Graduate and Above                    0.306292  \n",
      "average_schooling                              0.362081  \n",
      "Weight                                        -0.089483  \n",
      "TotalExpense                                   1.000000  \n"
     ]
    }
   ],
   "source": [
    "import pandas as pd\n",
    "\n",
    "# Function to calculate the correlation matrix for numeric variables\n",
    "def correlation_matrix(df):\n",
    "    # Select only numeric columns\n",
    "    numeric_df = df.select_dtypes(include=[np.number])\n",
    "    # Compute the correlation matrix\n",
    "    correlation_mat = numeric_df.corr()\n",
    "    return correlation_mat\n",
    "\n",
    "# Generate the correlation matrix for numeric variables\n",
    "corr_matrix = correlation_matrix(HH_Data_v2)\n",
    "print(corr_matrix)\n"
   ]
  },
  {
   "cell_type": "code",
   "execution_count": 187,
   "id": "7055a2e5-905f-4dbb-a85a-ffefbd36af61",
   "metadata": {},
   "outputs": [],
   "source": [
    "corr_matrix=corr_matrix.reset_index()"
   ]
  },
  {
   "cell_type": "code",
   "execution_count": 189,
   "id": "9b07eef7-eda7-4a9c-9596-c3ab083cd5ad",
   "metadata": {},
   "outputs": [],
   "source": [
    "corr_matrix.to_excel(r'C:\\Users\\Hp\\Desktop\\HCES2223\\Analysis\\New Result\\corr_matrix.xlsx', index= False)"
   ]
  },
  {
   "cell_type": "code",
   "execution_count": 1,
   "id": "aba8b489-04a1-4466-ac2d-3b61d23682df",
   "metadata": {},
   "outputs": [],
   "source": [
    "import pandas as pd"
   ]
  },
  {
   "cell_type": "code",
   "execution_count": 3,
   "id": "4f8efee4-ac17-46ce-bfb5-f1a30f3016dc",
   "metadata": {},
   "outputs": [],
   "source": [
    "HH_Data= pd.read_excel(r'C:\\Users\\Hp\\Desktop\\HCES2223\\Data\\HH_Data_new_v2.xlsx')"
   ]
  },
  {
   "cell_type": "code",
   "execution_count": 7,
   "id": "faf42a20-0410-4409-8e60-c9a34ae40785",
   "metadata": {},
   "outputs": [
    {
     "data": {
      "text/plain": [
       "Index(['HH_ID', 'Sector', 'State', 'NSS-Region', 'District', 'Household Type',\n",
       "       'Religion_HH_head', 'Social_Group_HH_head', 'HH Size (For FDQ)',\n",
       "       'NCO-2015 Code(3-digit)', 'NIC-2008 Code(5-digit)', 'Gender_HH_Head',\n",
       "       'Age_HH_Head', 'Marital_Status_HH_head',\n",
       "       'Total_year_of_education_completed_HH_head',\n",
       "       'Ind_highest_level_of_eduction_HH_head', 'Share of HH members in 0-14',\n",
       "       'Share of HH members in 15-24', 'Share of HH members in 25-59',\n",
       "       'Share of HH members in 60 and older', 'Share of Married Members',\n",
       "       'share of Graduate and Above', 'average_schooling', 'Weight',\n",
       "       'TotalExpense', 'WtdTotalExpense'],\n",
       "      dtype='object')"
      ]
     },
     "execution_count": 7,
     "metadata": {},
     "output_type": "execute_result"
    }
   ],
   "source": [
    "HH_Data.columns"
   ]
  },
  {
   "cell_type": "code",
   "execution_count": 9,
   "id": "a78bf532-c394-49ff-90af-7d0f58c32d6c",
   "metadata": {},
   "outputs": [],
   "source": [
    "HH_Data['WtdTotalExpense']=HH_Data['TotalExpense']*HH_Data['Weight']\n",
    "HH_Data['WtdHH_in_F']=HH_Data['HH Size (For FDQ)']*HH_Data['Weight']"
   ]
  },
  {
   "cell_type": "code",
   "execution_count": 1,
   "id": "17d1c302-8659-42e9-bb01-812aaaa1613c",
   "metadata": {},
   "outputs": [
    {
     "ename": "NameError",
     "evalue": "name 'HH_Data' is not defined",
     "output_type": "error",
     "traceback": [
      "\u001b[1;31m---------------------------------------------------------------------------\u001b[0m",
      "\u001b[1;31mNameError\u001b[0m                                 Traceback (most recent call last)",
      "Cell \u001b[1;32mIn[1], line 1\u001b[0m\n\u001b[1;32m----> 1\u001b[0m (HH_Data\u001b[38;5;241m.\u001b[39mgroupby([\u001b[38;5;124m'\u001b[39m\u001b[38;5;124mSector\u001b[39m\u001b[38;5;124m'\u001b[39m])[\u001b[38;5;124m'\u001b[39m\u001b[38;5;124mWtdTotalExpense\u001b[39m\u001b[38;5;124m'\u001b[39m]\u001b[38;5;241m.\u001b[39msum() \u001b[38;5;241m/\u001b[39m HH_Data\u001b[38;5;241m.\u001b[39mgroupby([\u001b[38;5;124m'\u001b[39m\u001b[38;5;124mSector\u001b[39m\u001b[38;5;124m'\u001b[39m])[\u001b[38;5;124m'\u001b[39m\u001b[38;5;124mWtdHH_in_F\u001b[39m\u001b[38;5;124m'\u001b[39m]\u001b[38;5;241m.\u001b[39msum())\u001b[38;5;241m.\u001b[39mreset_index(name\u001b[38;5;241m=\u001b[39m\u001b[38;5;124m'\u001b[39m\u001b[38;5;124mMPCE\u001b[39m\u001b[38;5;124m'\u001b[39m)\n",
      "\u001b[1;31mNameError\u001b[0m: name 'HH_Data' is not defined"
     ]
    }
   ],
   "source": [
    "(HH_Data.groupby(['Sector'])['WtdTotalExpense'].sum() / HH_Data.groupby(['Sector'])['WtdHH_in_F'].sum()).reset_index(name='MPCE')"
   ]
  },
  {
   "cell_type": "code",
   "execution_count": null,
   "id": "e082b07a-c64a-492c-82f3-8accf9327c58",
   "metadata": {},
   "outputs": [],
   "source": [
    " # Save the processed data to CSV\n",
    "output_file = f\"C:/Users/Hp/Desktop/HCES2223/CSV/\" + file_name +'.parquet'\n",
    "df.to_parquet(output_file, index=False)"
   ]
  }
 ],
 "metadata": {
  "kernelspec": {
   "display_name": "Python 3 (ipykernel)",
   "language": "python",
   "name": "python3"
  },
  "language_info": {
   "codemirror_mode": {
    "name": "ipython",
    "version": 3
   },
   "file_extension": ".py",
   "mimetype": "text/x-python",
   "name": "python",
   "nbconvert_exporter": "python",
   "pygments_lexer": "ipython3",
   "version": "3.12.7"
  }
 },
 "nbformat": 4,
 "nbformat_minor": 5
}
